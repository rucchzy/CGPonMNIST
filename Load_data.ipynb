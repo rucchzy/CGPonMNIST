{
 "cells": [
  {
   "cell_type": "code",
   "execution_count": 6,
   "metadata": {},
   "outputs": [],
   "source": [
    "import pickle\n",
    "import matplotlib.pyplot as plt"
   ]
  },
  {
   "cell_type": "code",
   "execution_count": 2,
   "metadata": {},
   "outputs": [],
   "source": [
    "image_set_file = './image_set/processed/'"
   ]
  },
  {
   "cell_type": "code",
   "execution_count": 3,
   "metadata": {},
   "outputs": [],
   "source": [
    "def load_data():\n",
    "    with open(image_set_file + 'X_train', 'rb') as f:\n",
    "        X_train = pickle.load(f)\n",
    "    with open(image_set_file + 'Y_train', 'rb') as f:\n",
    "        Y_train = pickle.load(f)\n",
    "    with open(image_set_file + 'X_test', 'rb') as f:\n",
    "        X_test = pickle.load(f)\n",
    "    with open(image_set_file + 'Y_test', 'rb') as f:\n",
    "        Y_test = pickle.load(f)\n",
    "    return X_train, Y_train, X_test, Y_test"
   ]
  },
  {
   "cell_type": "code",
   "execution_count": 4,
   "metadata": {},
   "outputs": [],
   "source": [
    "#X_train, Y_train, X_test, Y_test = load_data()"
   ]
  },
  {
   "cell_type": "code",
   "execution_count": 12,
   "metadata": {},
   "outputs": [
    {
     "name": "stdout",
     "output_type": "stream",
     "text": [
      "3\n",
      "[[ 0.  2. 15. 15.  6.  0.  0.  0.]\n",
      " [ 0.  0. 10. 13. 16.  5.  0.  0.]\n",
      " [ 0.  0.  0.  2. 16.  9.  0.  0.]\n",
      " [ 0.  0.  0.  3. 16. 11.  0.  0.]\n",
      " [ 0.  0.  0.  0. 13. 14.  1.  0.]\n",
      " [ 0.  0.  0.  0.  7. 16.  5.  0.]\n",
      " [ 0.  1.  4.  6. 13. 15.  1.  0.]\n",
      " [ 0.  3. 15. 14. 11.  2.  0.  0.]]\n"
     ]
    },
    {
     "data": {
      "image/png": "[encoded data removed]",
      "text/plain": [
       "<Figure size 432x288 with 1 Axes>"
      ]
     },
     "metadata": {
      "needs_background": "light"
     },
     "output_type": "display_data"
    },
    {
     "name": "stdout",
     "output_type": "stream",
     "text": [
      "8\n",
      "[[ 0.  0.  4. 11. 14.  4.  0.  0.]\n",
      " [ 0.  5. 13.  4.  9.  7.  0.  0.]\n",
      " [ 0.  7. 10. 10. 13.  2.  0.  0.]\n",
      " [ 0.  1.  9. 16. 15.  2.  0.  0.]\n",
      " [ 0.  0.  8.  7.  9. 12.  0.  0.]\n",
      " [ 0.  0. 12.  0.  1. 14.  5.  0.]\n",
      " [ 0.  0. 11.  6.  0.  7.  8.  0.]\n",
      " [ 0.  0.  2. 15. 16. 15.  4.  0.]]\n"
     ]
    },
    {
     "data": {
      "image/png": "[encoded data removed]",
      "text/plain": [
       "<Figure size 432x288 with 1 Axes>"
      ]
     },
     "metadata": {
      "needs_background": "light"
     },
     "output_type": "display_data"
    },
    {
     "name": "stdout",
     "output_type": "stream",
     "text": [
      "5\n",
      "[[ 0.  0.  5. 10. 14. 16. 11.  0.]\n",
      " [ 0.  2. 15. 15.  5.  4.  1.  0.]\n",
      " [ 0.  2. 16.  9.  4.  1.  0.  0.]\n",
      " [ 0.  2. 16. 16. 16. 11.  0.  0.]\n",
      " [ 0.  2.  9.  1.  0. 14.  4.  0.]\n",
      " [ 0.  0.  0.  0.  1. 14.  3.  0.]\n",
      " [ 0.  0.  0.  2. 13.  7.  0.  0.]\n",
      " [ 0.  0.  7. 14.  7.  0.  0.  0.]]\n"
     ]
    },
    {
     "data": {
      "image/png": "[encoded data removed]",
      "text/plain": [
       "<Figure size 432x288 with 1 Axes>"
      ]
     },
     "metadata": {
      "needs_background": "light"
     },
     "output_type": "display_data"
    },
    {
     "name": "stdout",
     "output_type": "stream",
     "text": [
      "6\n",
      "[[ 0.  0.  1. 14.  9.  0.  0.  0.]\n",
      " [ 0.  0. 14. 15.  3.  0.  0.  0.]\n",
      " [ 0.  1. 16. 10.  0.  0.  0.  0.]\n",
      " [ 0.  5. 14. 13. 15. 10.  0.  0.]\n",
      " [ 0.  8. 16.  2.  3. 14.  5.  0.]\n",
      " [ 0.  5. 16.  4.  0. 12.  6.  0.]\n",
      " [ 0.  0. 10. 13.  2. 14.  6.  0.]\n",
      " [ 0.  0.  2. 12. 16. 11.  1.  0.]]\n"
     ]
    },
    {
     "data": {
      "image/png": "[encoded data removed]",
      "text/plain": [
       "<Figure size 432x288 with 1 Axes>"
      ]
     },
     "metadata": {
      "needs_background": "light"
     },
     "output_type": "display_data"
    },
    {
     "name": "stdout",
     "output_type": "stream",
     "text": [
      "0\n",
      "[[ 0.  0.  5. 16. 15.  4.  0.  0.]\n",
      " [ 0.  3. 15. 13. 13. 12.  0.  0.]\n",
      " [ 0.  7. 14.  1.  0. 16.  5.  0.]\n",
      " [ 0. 12.  9.  0.  1. 11. 10.  0.]\n",
      " [ 0. 10. 10.  0.  0.  7. 13.  0.]\n",
      " [ 0.  6. 15.  0.  0.  8. 12.  0.]\n",
      " [ 0.  1. 14.  7.  6. 15. 11.  0.]\n",
      " [ 0.  0.  5. 15. 16. 14.  3.  0.]]\n"
     ]
    },
    {
     "data": {
      "image/png": "[encoded data removed]",
      "text/plain": [
       "<Figure size 432x288 with 1 Axes>"
      ]
     },
     "metadata": {
      "needs_background": "light"
     },
     "output_type": "display_data"
    },
    {
     "name": "stdout",
     "output_type": "stream",
     "text": [
      "1\n",
      "[[ 0.  0.  0.  0. 14. 16.  7.  0.]\n",
      " [ 0.  0.  0.  5. 16. 16.  8.  0.]\n",
      " [ 0.  0.  1. 12. 16. 16.  8.  0.]\n",
      " [ 0.  5. 14. 16. 16. 16.  5.  0.]\n",
      " [ 0.  1.  4.  7. 16. 16.  8.  0.]\n",
      " [ 0.  0.  0.  2. 16. 16.  7.  0.]\n",
      " [ 0.  0.  0.  2. 16. 16.  3.  0.]\n",
      " [ 0.  0.  0.  0. 16. 16.  0.  0.]]\n"
     ]
    },
    {
     "data": {
      "image/png": "[encoded data removed]",
      "text/plain": [
       "<Figure size 432x288 with 1 Axes>"
      ]
     },
     "metadata": {
      "needs_background": "light"
     },
     "output_type": "display_data"
    },
    {
     "name": "stdout",
     "output_type": "stream",
     "text": [
      "4\n",
      "[[ 0.  0.  2. 15.  5.  0.  0.  0.]\n",
      " [ 0.  0.  9. 15.  0.  1.  0.  0.]\n",
      " [ 0.  0. 14.  9.  9.  9.  0.  0.]\n",
      " [ 0.  8. 16.  4. 16. 13. 12.  0.]\n",
      " [ 0. 13. 16. 16. 16. 15.  7.  0.]\n",
      " [ 0.  3.  8. 13. 12.  2.  0.  0.]\n",
      " [ 0.  0.  0. 14. 10.  0.  0.  0.]\n",
      " [ 0.  0.  3. 16.  7.  0.  0.  0.]]\n"
     ]
    },
    {
     "data": {
      "image/png": "[encoded data removed]",
      "text/plain": [
       "<Figure size 432x288 with 1 Axes>"
      ]
     },
     "metadata": {
      "needs_background": "light"
     },
     "output_type": "display_data"
    },
    {
     "name": "stdout",
     "output_type": "stream",
     "text": [
      "8\n",
      "[[ 0.  0. 13. 16. 16. 15.  2.  0.]\n",
      " [ 0.  0. 14. 13. 11. 16.  2.  0.]\n",
      " [ 0.  0. 11. 13. 15.  6.  0.  0.]\n",
      " [ 0.  0.  5. 16. 10.  0.  0.  0.]\n",
      " [ 0.  0. 10. 14. 15.  0.  0.  0.]\n",
      " [ 0.  1. 14.  3. 15.  7.  0.  0.]\n",
      " [ 0.  6. 11.  0. 15.  6.  0.  0.]\n",
      " [ 0.  1. 13. 16. 15.  3.  0.  0.]]\n"
     ]
    },
    {
     "data": {
      "image/png": "[encoded data removed]",
      "text/plain": [
       "<Figure size 432x288 with 1 Axes>"
      ]
     },
     "metadata": {
      "needs_background": "light"
     },
     "output_type": "display_data"
    },
    {
     "name": "stdout",
     "output_type": "stream",
     "text": [
      "7\n",
      "[[ 0.  0.  5. 14. 15.  2.  0.  0.]\n",
      " [ 0.  6. 16. 10. 15.  8.  0.  0.]\n",
      " [ 0.  1.  4.  0.  8.  8.  0.  0.]\n",
      " [ 0.  0.  1.  7. 16. 16.  8.  0.]\n",
      " [ 0.  0. 13. 16. 16.  4.  0.  0.]\n",
      " [ 0.  0.  6. 10.  9.  0.  0.  0.]\n",
      " [ 0.  0.  0. 13.  4.  0.  0.  0.]\n",
      " [ 0.  0.  5. 15.  2.  0.  0.  0.]]\n"
     ]
    },
    {
     "data": {
      "image/png": "[encoded data removed]",
      "text/plain": [
       "<Figure size 432x288 with 1 Axes>"
      ]
     },
     "metadata": {
      "needs_background": "light"
     },
     "output_type": "display_data"
    },
    {
     "name": "stdout",
     "output_type": "stream",
     "text": [
      "2\n",
      "[[ 0.  0. 10. 15.  2.  0.  0.  0.]\n",
      " [ 0.  7. 16. 16.  6.  0.  0.  0.]\n",
      " [ 0. 12. 13. 12.  9.  0.  0.  0.]\n",
      " [ 0.  8.  9. 13.  7.  0.  0.  0.]\n",
      " [ 0.  0.  0. 16.  5.  0.  0.  0.]\n",
      " [ 0.  0.  6. 15.  1.  0.  0.  0.]\n",
      " [ 0.  0. 16. 14.  4.  5.  8.  3.]\n",
      " [ 0.  0.  8. 16. 16. 16. 16.  9.]]\n"
     ]
    },
    {
     "data": {
      "image/png": "[encoded data removed]",
      "text/plain": [
       "<Figure size 432x288 with 1 Axes>"
      ]
     },
     "metadata": {
      "needs_background": "light"
     },
     "output_type": "display_data"
    }
   ],
   "source": [
    "'''for i in range(10):\n",
    "    print(Y_train[i])\n",
    "    print(X_train[i].reshape(8,8))\n",
    "    plt.imshow(X_train[i].reshape(8,8), cmap='gray')\n",
    "    plt.show()'''"
   ]
  },
  {
   "cell_type": "code",
   "execution_count": null,
   "metadata": {},
   "outputs": [],
   "source": []
  }
 ],
 "metadata": {
  "kernelspec": {
   "display_name": "Python 3",
   "language": "python",
   "name": "python3"
  },
  "language_info": {
   "codemirror_mode": {
    "name": "ipython",
    "version": 3
   },
   "file_extension": ".py",
   "mimetype": "text/x-python",
   "name": "python",
   "nbconvert_exporter": "python",
   "pygments_lexer": "ipython3",
   "version": "3.8.5"
  }
 },
 "nbformat": 4,
 "nbformat_minor": 4
}
