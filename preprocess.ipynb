{
 "cells": [
  {
   "cell_type": "code",
   "execution_count": 48,
   "metadata": {},
   "outputs": [],
   "source": [
    "from sklearn import datasets\n",
    "import pickle\n",
    "import random"
   ]
  },
  {
   "cell_type": "code",
   "execution_count": 56,
   "metadata": {},
   "outputs": [],
   "source": [
    "image_set_file = './image_set/'"
   ]
  },
  {
   "cell_type": "code",
   "execution_count": 58,
   "metadata": {},
   "outputs": [
    {
     "name": "stdout",
     "output_type": "stream",
     "text": [
      "writing label 0 images set\n",
      "done!\n",
      "writing label 1 images set\n",
      "done!\n",
      "writing label 2 images set\n",
      "done!\n",
      "writing label 3 images set\n",
      "done!\n",
      "writing label 4 images set\n",
      "done!\n",
      "writing label 5 images set\n",
      "done!\n",
      "writing label 6 images set\n",
      "done!\n",
      "writing label 7 images set\n",
      "done!\n",
      "writing label 8 images set\n",
      "done!\n",
      "writing label 9 images set\n",
      "done!\n"
     ]
    }
   ],
   "source": [
    "for i in range(10):\n",
    "    temp_x = []\n",
    "    temp_y = []\n",
    "    for x, y in zip(X, Y):\n",
    "        if y == i:\n",
    "            temp_x.append(x)\n",
    "            temp_y.append(y)\n",
    "    #temp_train = np.random.choice(temp_x, 160, replace=False)\n",
    "    print('writing label ' + str(i) + ' images set')\n",
    "    with open(image_set_file + 'raw/x' + str(i), 'wb') as f:\n",
    "        pickle.dump(temp_x, f)\n",
    "    with open(image_set_file + 'raw/y' + str(i), 'wb') as f:\n",
    "        pickle.dump(temp_y, f)\n",
    "    print('done!')"
   ]
  },
  {
   "cell_type": "code",
   "execution_count": 81,
   "metadata": {},
   "outputs": [],
   "source": [
    "def preprocess_data():\n",
    "    image_set_file = './image_set/'\n",
    "    temp_X_train = []\n",
    "    temp_Y_train = []\n",
    "    temp_X_test = []\n",
    "    temp_Y_test = []\n",
    "    for i in range(10):\n",
    "        with open(image_set_file + 'raw/x' + str(i), 'rb') as f1:\n",
    "            X = pickle.load(f1)\n",
    "            temp_X_train = temp_X_train + X[:160]\n",
    "            temp_X_test = temp_X_test + X[160:]\n",
    "        with open(image_set_file + 'raw/y' + str(i), 'rb') as f2:\n",
    "            Y = pickle.load(f2)\n",
    "            temp_Y_train = temp_Y_train + Y[:160]\n",
    "            temp_Y_test = temp_Y_test + Y[160:]\n",
    "    temp_XY_train = list(zip(temp_X_train, temp_Y_train))\n",
    "    temp_XY_test = list(zip(temp_X_test, temp_Y_test))\n",
    "    random.shuffle(temp_XY_train)\n",
    "    random.shuffle(temp_XY_test)\n",
    "    X_train, Y_train = zip(*temp_XY_train)\n",
    "    X_test, Y_test = zip(*temp_XY_test)\n",
    "    with open(image_set_file + 'processed/X_train', 'wb') as f1:\n",
    "        pickle.dump(list(X_train), f1)\n",
    "    with open(image_set_file + 'processed/Y_train', 'wb') as f2:\n",
    "        pickle.dump(list(Y_train), f2)\n",
    "    with open(image_set_file + 'processed/X_test', 'wb') as f3:\n",
    "        pickle.dump(list(X_test), f3)\n",
    "    with open(image_set_file + 'processed/Y_test', 'wb') as f4:\n",
    "        pickle.dump(list(Y_test), f4)\n",
    "    print('done!')"
   ]
  },
  {
   "cell_type": "code",
   "execution_count": 82,
   "metadata": {},
   "outputs": [
    {
     "name": "stdout",
     "output_type": "stream",
     "text": [
      "done!\n"
     ]
    }
   ],
   "source": [
    "preprocess_data()"
   ]
  },
  {
   "cell_type": "code",
   "execution_count": null,
   "metadata": {},
   "outputs": [],
   "source": []
  }
 ],
 "metadata": {
  "kernelspec": {
   "display_name": "Python 3",
   "language": "python",
   "name": "python3"
  },
  "language_info": {
   "codemirror_mode": {
    "name": "ipython",
    "version": 3
   },
   "file_extension": ".py",
   "mimetype": "text/x-python",
   "name": "python",
   "nbconvert_exporter": "python",
   "pygments_lexer": "ipython3",
   "version": "3.8.5"
  }
 },
 "nbformat": 4,
 "nbformat_minor": 4
}
